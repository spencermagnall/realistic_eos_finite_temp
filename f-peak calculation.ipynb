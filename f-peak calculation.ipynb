{
 "cells": [
  {
   "cell_type": "code",
   "execution_count": 12,
   "id": "81126317-e29c-4d08-9c08-3c28688cfc73",
   "metadata": {},
   "outputs": [],
   "source": [
    "# Import libraries \n",
    "import matplotlib.pyplot as plt \n",
    "import pandas as pd\n",
    "import glob\n",
    "import numpy as np\n",
    "import multiprocessing as mp"
   ]
  },
  {
   "cell_type": "code",
   "execution_count": 2,
   "id": "bcf1ccf5-d58a-4aca-bc82-51e44c4a6b8b",
   "metadata": {},
   "outputs": [],
   "source": [
    "import pandas as pd\n",
    "import glob\n",
    "import multiprocessing as mp\n",
    "\n",
    "def read_mass_freq_file(filepath):\n",
    "    df = pd.read_csv(filepath, delim_whitespace=True, header=None, names=[\"mass_solar\",\"radius km\", \"freq_khz\"])\n",
    "    df[\"source_file\"] = filepath  # Add filename as identifier (optional)\n",
    "    return df\n",
    "\n",
    "# Collect all filenames\n",
    "file_list_hot= glob.glob(\"/Users/smag0001/Downloads/f_peak_S_2_new/*.out\")  # or adjust as needed\n",
    "file_list = glob.glob(\"/Users/smag0001/Downloads/f_peak_T_0_new/*.out\")\n",
    "#print(file_list)\n",
    "\n",
    "# Let's just read in the first EOS \n",
    "eos_df = read_mass_freq_file(file_list[0])"
   ]
  },
  {
   "cell_type": "code",
   "execution_count": 4,
   "id": "07a7d4e3-6f90-4b9e-b81f-4efc632b4cea",
   "metadata": {},
   "outputs": [
    {
     "name": "stdout",
     "output_type": "stream",
     "text": [
      "    mass_solar  radius km  freq_khz  \\\n",
      "0     2.200000  16.716112  3.318129   \n",
      "1     2.210000  16.702856  3.328729   \n",
      "2     2.220000  16.689314  3.339416   \n",
      "3     2.230000  16.675623  3.350153   \n",
      "4     2.240000  16.661696  3.360966   \n",
      "5     2.250000  16.647528  3.371856   \n",
      "6     2.260000  16.633195  3.382804   \n",
      "7     2.270000  16.618504  3.393864   \n",
      "8     2.280000  16.603684  3.404973   \n",
      "9     2.290000  16.588509  3.416197   \n",
      "10    2.300000  16.572666  3.427625   \n",
      "11    2.310000  16.556196  3.439251   \n",
      "12    2.320000  16.539277  3.451023   \n",
      "13    2.330000  16.522122  3.462883   \n",
      "14    2.340000  16.504633  3.474861   \n",
      "15    2.350000  16.486679  3.486996   \n",
      "16    2.360000  16.468427  3.499240   \n",
      "17    2.370000  16.449849  3.511605   \n",
      "18    2.380000  16.430686  3.524169   \n",
      "19    2.390000  16.411130  3.536876   \n",
      "20    2.400000  16.390856  3.549828   \n",
      "21    2.410000  16.369436  3.563156   \n",
      "22    2.420000  16.348365  3.576413   \n",
      "23    2.430000  16.325940  3.590117   \n",
      "24    2.440000  16.302659  3.604122   \n",
      "25    2.450000  16.279189  3.618226   \n",
      "26    2.460000  16.255461  3.632453   \n",
      "27    2.470000  16.230094  3.647237   \n",
      "28    2.480000  16.203942  3.662317   \n",
      "29    2.490000  16.177025  3.677692   \n",
      "30    2.500000  16.150260  3.693074   \n",
      "31    2.510000  16.121259  3.709231   \n",
      "32    2.520000  16.091158  3.725808   \n",
      "33    2.530000  16.060333  3.742692   \n",
      "34    2.540000  16.028567  3.759957   \n",
      "35    2.550000  15.994608  3.778026   \n",
      "36    2.560000  15.959095  3.796702   \n",
      "37    2.570000  15.922190  3.815943   \n",
      "38    2.580000  15.883655  3.835840   \n",
      "39    2.590000  15.843316  3.856468   \n",
      "40    2.600000  15.799298  3.878488   \n",
      "41    2.610000  15.754342  3.900983   \n",
      "42    2.620000  15.704904  3.925206   \n",
      "43    2.630000  15.652925  3.950516   \n",
      "44    2.640000  15.595427  3.978010   \n",
      "45    2.650000  15.533912  4.007211   \n",
      "46    2.660000  15.464626  4.039553   \n",
      "47    2.670000  15.386363  4.075600   \n",
      "48    2.680000  15.296078  4.116659   \n",
      "49    2.690000  15.185119  4.166304   \n",
      "50    2.700000  15.033715  4.232865   \n",
      "51    2.708926  14.695583  4.377641   \n",
      "\n",
      "                                          source_file  \n",
      "0   /Users/smag0001/Downloads/f_peak_T_0_new/f_pea...  \n",
      "1   /Users/smag0001/Downloads/f_peak_T_0_new/f_pea...  \n",
      "2   /Users/smag0001/Downloads/f_peak_T_0_new/f_pea...  \n",
      "3   /Users/smag0001/Downloads/f_peak_T_0_new/f_pea...  \n",
      "4   /Users/smag0001/Downloads/f_peak_T_0_new/f_pea...  \n",
      "5   /Users/smag0001/Downloads/f_peak_T_0_new/f_pea...  \n",
      "6   /Users/smag0001/Downloads/f_peak_T_0_new/f_pea...  \n",
      "7   /Users/smag0001/Downloads/f_peak_T_0_new/f_pea...  \n",
      "8   /Users/smag0001/Downloads/f_peak_T_0_new/f_pea...  \n",
      "9   /Users/smag0001/Downloads/f_peak_T_0_new/f_pea...  \n",
      "10  /Users/smag0001/Downloads/f_peak_T_0_new/f_pea...  \n",
      "11  /Users/smag0001/Downloads/f_peak_T_0_new/f_pea...  \n",
      "12  /Users/smag0001/Downloads/f_peak_T_0_new/f_pea...  \n",
      "13  /Users/smag0001/Downloads/f_peak_T_0_new/f_pea...  \n",
      "14  /Users/smag0001/Downloads/f_peak_T_0_new/f_pea...  \n",
      "15  /Users/smag0001/Downloads/f_peak_T_0_new/f_pea...  \n",
      "16  /Users/smag0001/Downloads/f_peak_T_0_new/f_pea...  \n",
      "17  /Users/smag0001/Downloads/f_peak_T_0_new/f_pea...  \n",
      "18  /Users/smag0001/Downloads/f_peak_T_0_new/f_pea...  \n",
      "19  /Users/smag0001/Downloads/f_peak_T_0_new/f_pea...  \n",
      "20  /Users/smag0001/Downloads/f_peak_T_0_new/f_pea...  \n",
      "21  /Users/smag0001/Downloads/f_peak_T_0_new/f_pea...  \n",
      "22  /Users/smag0001/Downloads/f_peak_T_0_new/f_pea...  \n",
      "23  /Users/smag0001/Downloads/f_peak_T_0_new/f_pea...  \n",
      "24  /Users/smag0001/Downloads/f_peak_T_0_new/f_pea...  \n",
      "25  /Users/smag0001/Downloads/f_peak_T_0_new/f_pea...  \n",
      "26  /Users/smag0001/Downloads/f_peak_T_0_new/f_pea...  \n",
      "27  /Users/smag0001/Downloads/f_peak_T_0_new/f_pea...  \n",
      "28  /Users/smag0001/Downloads/f_peak_T_0_new/f_pea...  \n",
      "29  /Users/smag0001/Downloads/f_peak_T_0_new/f_pea...  \n",
      "30  /Users/smag0001/Downloads/f_peak_T_0_new/f_pea...  \n",
      "31  /Users/smag0001/Downloads/f_peak_T_0_new/f_pea...  \n",
      "32  /Users/smag0001/Downloads/f_peak_T_0_new/f_pea...  \n",
      "33  /Users/smag0001/Downloads/f_peak_T_0_new/f_pea...  \n",
      "34  /Users/smag0001/Downloads/f_peak_T_0_new/f_pea...  \n",
      "35  /Users/smag0001/Downloads/f_peak_T_0_new/f_pea...  \n",
      "36  /Users/smag0001/Downloads/f_peak_T_0_new/f_pea...  \n",
      "37  /Users/smag0001/Downloads/f_peak_T_0_new/f_pea...  \n",
      "38  /Users/smag0001/Downloads/f_peak_T_0_new/f_pea...  \n",
      "39  /Users/smag0001/Downloads/f_peak_T_0_new/f_pea...  \n",
      "40  /Users/smag0001/Downloads/f_peak_T_0_new/f_pea...  \n",
      "41  /Users/smag0001/Downloads/f_peak_T_0_new/f_pea...  \n",
      "42  /Users/smag0001/Downloads/f_peak_T_0_new/f_pea...  \n",
      "43  /Users/smag0001/Downloads/f_peak_T_0_new/f_pea...  \n",
      "44  /Users/smag0001/Downloads/f_peak_T_0_new/f_pea...  \n",
      "45  /Users/smag0001/Downloads/f_peak_T_0_new/f_pea...  \n",
      "46  /Users/smag0001/Downloads/f_peak_T_0_new/f_pea...  \n",
      "47  /Users/smag0001/Downloads/f_peak_T_0_new/f_pea...  \n",
      "48  /Users/smag0001/Downloads/f_peak_T_0_new/f_pea...  \n",
      "49  /Users/smag0001/Downloads/f_peak_T_0_new/f_pea...  \n",
      "50  /Users/smag0001/Downloads/f_peak_T_0_new/f_pea...  \n",
      "51  /Users/smag0001/Downloads/f_peak_T_0_new/f_pea...  \n"
     ]
    }
   ],
   "source": [
    "print(eos_df)"
   ]
  },
  {
   "cell_type": "code",
   "execution_count": 9,
   "id": "5d921674-2f01-45fe-9ba5-f9ecb936c619",
   "metadata": {},
   "outputs": [
    {
     "data": {
      "text/plain": [
       "Text(0.5, 0, 'radius')"
      ]
     },
     "execution_count": 9,
     "metadata": {},
     "output_type": "execute_result"
    },
    {
     "data": {
      "image/png": "[encoded data removed]",
      "text/plain": [
       "<Figure size 640x480 with 1 Axes>"
      ]
     },
     "metadata": {},
     "output_type": "display_data"
    }
   ],
   "source": [
    "plt.plot(eos_df['radius km'],eos_df['mass_solar'])\n",
    "plt.ylabel('mass')\n",
    "plt.xlabel('radius')"
   ]
  },
  {
   "cell_type": "code",
   "execution_count": 34,
   "id": "807a3e23-8eb5-44bf-b7d4-2dffe849969e",
   "metadata": {},
   "outputs": [
    {
     "name": "stdout",
     "output_type": "stream",
     "text": [
      "13505.793612191712\n",
      "19669.816974389807\n",
      "25880.99991356498\n"
     ]
    }
   ],
   "source": [
    "# Define the doneva relationships \n",
    "\n",
    "# Keplerian rotation limit\n",
    "def omega_k(mass_nonrot,radius_nonrot):\n",
    "    rot_freq_khz = 2.0*np.pi*1.716*((mass_nonrot/1.4)**(1./2.))*((radius_nonrot/10.)**(-3/2)) - 0.189*2.0*np.pi\n",
    "    return rot_freq_khz*1000 # Give result in Hz\n",
    "\n",
    "# f-mode frequency of a non rotating model\n",
    "def sigma0(mass_nonrot, radius_nonrot):\n",
    "    rot_freq_khz = 2.0*np.pi*(1.562 + 1.151*(mass_nonrot/1.4)**(1./2.)*(radius_nonrot/10.)**(-3/2))\n",
    "    return rot_freq_khz*1000\n",
    "\n",
    "# f-mode frequency of the rotating model in the inertial frame\n",
    "def sigmai(freq_nonrot,freq_rot,freq_kep):\n",
    "    rot_kep = freq_rot/freq_kep\n",
    "    # Should this be +2 or -2 - Double check and derive! \n",
    "    freq_inert = freq_nonrot*(1.- 0.235*(rot_kep) + (2*freq_rot/freq_nonrot) - 0.358*(rot_kep**2))\n",
    "    return freq_inert\n",
    "    \n",
    "# Verify that the calculations match Chakravarti and Andersson\n",
    "# Results are in Hz\n",
    "print(omega_k(2.6,10.0))\n",
    "print(sigma0(2.6,10.0))\n",
    "freq_nonrot = sigma0(2.6,10.0)\n",
    "print(sigmai(freq_nonrot,1.35e4,9.5e3))\n",
    "                            "
   ]
  },
  {
   "cell_type": "code",
   "execution_count": null,
   "id": "0c4b0a6c-c426-43a1-a3d5-4883cf984f51",
   "metadata": {},
   "outputs": [],
   "source": [
    "# How is Nilaksha calculating the peak frequency?\n",
    "\n",
    "# Calculate keplerian frequency for a given mass and radius \n",
    "\n",
    "# Calculate non rotating frequency"
   ]
  }
 ],
 "metadata": {
  "kernelspec": {
   "display_name": "Python 3 (ipykernel)",
   "language": "python",
   "name": "python3"
  },
  "language_info": {
   "codemirror_mode": {
    "name": "ipython",
    "version": 3
   },
   "file_extension": ".py",
   "mimetype": "text/x-python",
   "name": "python",
   "nbconvert_exporter": "python",
   "pygments_lexer": "ipython3",
   "version": "3.10.14"
  }
 },
 "nbformat": 4,
 "nbformat_minor": 5
}
